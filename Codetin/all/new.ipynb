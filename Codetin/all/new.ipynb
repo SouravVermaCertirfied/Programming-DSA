{
 "cells": [
  {
   "cell_type": "markdown",
   "metadata": {},
   "source": []
  },
  {
   "cell_type": "code",
   "execution_count": null,
   "metadata": {},
   "outputs": [],
   "source": [
    "void* critical_section(void* arg) {\n",
    "    custom_mutex_t* mutex = (custom_mutex_t*)arg;\n",
    "\n",
    "    // Lock the custom mutex to enter the critical section\n",
    "    custom_mutex_lock(mutex);\n",
    "\n",
    "    // Entering critical section\n",
    "    printf(\"Thread %ld entering critical section\\n\", (long)pthread_self());\n",
    "\n",
    "    // Simulate work inside the critical section\n",
    "    for (int i = 0; i < 5; i++) {\n",
    "        printf(\"Thread %ld working in critical section, step %d\\n\", (long)pthread_self(), i + 1);\n",
    "    }\n",
    "\n",
    "    // Leaving critical section\n",
    "    printf(\"Thread %ld leaving critical section\\n\", (long)pthread_self());\n",
    "\n",
    "    // Unlock the custom mutex to allow other threads to enter\n",
    "    custom_mutex_unlock(mutex);\n",
    "\n",
    "    return NULL;\n",
    "}\n"
   ]
  }
 ],
 "metadata": {
  "language_info": {
   "name": "python"
  }
 },
 "nbformat": 4,
 "nbformat_minor": 2
}
